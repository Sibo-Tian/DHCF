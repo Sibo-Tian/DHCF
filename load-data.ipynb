{
 "cells": [
  {
   "cell_type": "code",
   "execution_count": 65,
   "metadata": {},
   "outputs": [],
   "source": [
    "import numpy as np\n",
    "import scipy.sparse as sp\n",
    "import torch\n",
    "\n",
    "def onehot_encoder(idx, num_classes):\n",
    "    identity = np.identity(num_classes)\n",
    "    return identity[idx]\n",
    "\n",
    "def load_data(path='./data/ml-100k/', dataset='u.data'):\n",
    "    \"\"\"Load movielens dataset\"\"\"\n",
    "    print('Loading {} dataset...'.format(dataset))\n",
    "    #oberve(Hyper_graph)\n",
    "    raw_observe = np.genfromtxt(\"{}{}\".format(path, dataset), dtype=np.int32)\n",
    "    row_idx = raw_observe[:,0]\n",
    "    col_idx = raw_observe[:,1]\n",
    "    H = np.zeros((943, 1682))\n",
    "    H[row_idx-1, col_idx-1] = 1\n",
    "    \n",
    "    #user_features\n",
    "    raw_occupation = np.genfromtxt(\"{}{}\".format(path,'u.occupation'), dtype=np.dtype(str))\n",
    "    occupation_num = len(raw_occupation)\n",
    "    occupation_idx = {raw_occupation[i] : i for i in range(len(raw_occupation))}\n",
    "    gender_idx = {'M': 0, 'F': 1}\n",
    "    \n",
    "    user_features = np.zeros((943, 23))\n",
    "    with open('./data/ml-100k/u.user') as fp:\n",
    "        for i, line in enumerate(fp):\n",
    "            info = line.split('|')\n",
    "            user_features[i][0] = int(info[1]) #age\n",
    "            user_features[i][1] = gender_idx[info[2]] #gender\n",
    "            user_features[i][2:] = onehot_encoder(occupation_idx[info[3]], occupation_num) #occupation\n",
    "    user_features = torch.FloatTensor(user_features)\n",
    "\n",
    "    #item_features\n",
    "    item_features = np.zeros((1682, 19))\n",
    "    with open('./data/ml-100k/u.item') as fp:\n",
    "        for i, line in enumerate(fp):\n",
    "            info = line.split('|')\n",
    "            info = info[5:]\n",
    "            info = list(map(int, info))\n",
    "            item_features[i,:] = info[:]\n",
    "    item_features = torch.FloatTensor(item_features)\n",
    "    return H, user_features, item_features"
   ]
  },
  {
   "cell_type": "code",
   "execution_count": 72,
   "metadata": {},
   "outputs": [
    {
     "name": "stdout",
     "output_type": "stream",
     "text": [
      "Loading u.data dataset...\n",
      "tensor([[0., 0., 0.,  ..., 0., 0., 0.],\n",
      "        [0., 1., 1.,  ..., 1., 0., 0.],\n",
      "        [0., 0., 0.,  ..., 1., 0., 0.],\n",
      "        ...,\n",
      "        [0., 0., 0.,  ..., 0., 0., 0.],\n",
      "        [0., 0., 0.,  ..., 0., 0., 0.],\n",
      "        [0., 0., 0.,  ..., 0., 0., 0.]])\n"
     ]
    }
   ],
   "source": [
    "H, user_features, iterm_features = load_data()\n"
   ]
  },
  {
   "cell_type": "code",
   "execution_count": 75,
   "metadata": {},
   "outputs": [],
   "source": [
    "x  = torch.tensor([1,2,3])\n",
    "y = torch.diag(torch.sqrt(x))"
   ]
  },
  {
   "cell_type": "code",
   "execution_count": 76,
   "metadata": {},
   "outputs": [
    {
     "data": {
      "text/plain": [
       "tensor([[1.0000, 0.0000, 0.0000],\n",
       "        [0.0000, 1.4142, 0.0000],\n",
       "        [0.0000, 0.0000, 1.7321]])"
      ]
     },
     "execution_count": 76,
     "metadata": {},
     "output_type": "execute_result"
    }
   ],
   "source": [
    "y"
   ]
  },
  {
   "cell_type": "code",
   "execution_count": 78,
   "metadata": {},
   "outputs": [
    {
     "data": {
      "text/plain": [
       "tensor([[0.5000, 0.5000, 0.5000],\n",
       "        [0.5000, 0.5000, 0.5000],\n",
       "        [0.5000, 0.5000, 0.5000]])"
      ]
     },
     "execution_count": 78,
     "metadata": {},
     "output_type": "execute_result"
    }
   ],
   "source": [
    "x = torch.ones(3, 3)\n",
    "x  = x*2\n",
    "1/x"
   ]
  },
  {
   "cell_type": "code",
   "execution_count": 91,
   "metadata": {},
   "outputs": [],
   "source": [
    "x = torch.arange(6)\n",
    "x = x.to(torch.float32)\n",
    "mask = x.nonzero()\n",
    "for i in mask:\n",
    "    x[i] = 1 / torch.sqrt(x[i])\n"
   ]
  },
  {
   "cell_type": "code",
   "execution_count": 92,
   "metadata": {},
   "outputs": [
    {
     "data": {
      "text/plain": [
       "tensor([1.4142])"
      ]
     },
     "execution_count": 92,
     "metadata": {},
     "output_type": "execute_result"
    }
   ],
   "source": [
    "x[mask[1]]"
   ]
  },
  {
   "cell_type": "code",
   "execution_count": 93,
   "metadata": {},
   "outputs": [
    {
     "data": {
      "text/plain": [
       "tensor([0.0000, 1.0000, 1.4142, 1.7321, 2.0000, 2.2361])"
      ]
     },
     "execution_count": 93,
     "metadata": {},
     "output_type": "execute_result"
    }
   ],
   "source": [
    "x"
   ]
  },
  {
   "cell_type": "code",
   "execution_count": null,
   "metadata": {},
   "outputs": [],
   "source": []
  }
 ],
 "metadata": {
  "kernelspec": {
   "display_name": "Python 3.8.13 ('torch')",
   "language": "python",
   "name": "python3"
  },
  "language_info": {
   "codemirror_mode": {
    "name": "ipython",
    "version": 3
   },
   "file_extension": ".py",
   "mimetype": "text/x-python",
   "name": "python",
   "nbconvert_exporter": "python",
   "pygments_lexer": "ipython3",
   "version": "3.8.13"
  },
  "orig_nbformat": 4,
  "vscode": {
   "interpreter": {
    "hash": "7288f315087fdb0a15835a979a50c8db3e0e21492381bafafe9d84f995bbb7dd"
   }
  }
 },
 "nbformat": 4,
 "nbformat_minor": 2
}
